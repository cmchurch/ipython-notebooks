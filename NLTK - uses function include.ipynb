{
 "metadata": {
  "name": "NLTK - uses function include"
 },
 "nbformat": 3,
 "nbformat_minor": 0,
 "worksheets": [
  {
   "cells": [
    {
     "cell_type": "code",
     "collapsed": false,
     "input": [
      "import sys\n",
      "scriptpath = \"D:\\\\PhD Research - UC Berkeley\\\\Research\\\\Pelee XML\\\\french_nl_functions\\\\\"\n",
      "sys.path.append(os.path.abspath(scriptpath))\n",
      "import french_nl_functions"
     ],
     "language": "python",
     "metadata": {},
     "outputs": [
      {
       "ename": "SyntaxError",
       "evalue": "invalid syntax (french_nl_functions.py, line 65)",
       "output_type": "pyerr",
       "traceback": [
        "\u001b[1;36m  File \u001b[1;32m\"D:\\PhD Research - UC Berkeley\\Research\\Pelee XML\\french_nl_functions\\french_nl_functions.py\"\u001b[1;36m, line \u001b[1;32m65\u001b[0m\n\u001b[1;33m    sorted_words = [[,]]\u001b[0m\n\u001b[1;37m                     ^\u001b[0m\n\u001b[1;31mSyntaxError\u001b[0m\u001b[1;31m:\u001b[0m invalid syntax\n"
       ]
      }
     ],
     "prompt_number": 10
    },
    {
     "cell_type": "code",
     "collapsed": false,
     "input": [],
     "language": "python",
     "metadata": {},
     "outputs": []
    }
   ],
   "metadata": {}
  }
 ]
}